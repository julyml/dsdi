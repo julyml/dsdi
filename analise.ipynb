{
 "cells": [
  {
   "cell_type": "code",
   "execution_count": null,
   "metadata": {},
   "outputs": [],
   "source": [
    "import pandas as pd\n",
    "\n",
    "\n",
    "df_xml_rpc_same_computer = pd.read_csv('analise_xml_rpc.csv')\n",
    "df_xml_rpc_same_computer_media_por_experimento = df_xml_rpc_same_computer.groupby(['experimento'])['duracao'].mean()\n",
    "df_xml_rpc_same_computer_desvio_padrao_por_experimento = df_xml_rpc_same_computer.groupby(['experimento'])['duracao'].std()\n",
    "\n",
    "print(df_xml_rpc_same_computer_media_por_experimento)\n",
    "print(df_xml_rpc_same_computer_desvio_padrao_por_experimento)\n"
   ]
  },
  {
   "cell_type": "code",
   "execution_count": null,
   "metadata": {},
   "outputs": [],
   "source": [
    "df_grpc_same_computer = pd.read_csv('analise_xml_rpc.csv')\n",
    "df_grpc_same_computer_media_por_experimento = df.groupby(['experimento'])['duracao'].mean()\n",
    "df_grpc_same_computer_desvio_padrao_por_experimento = df.groupby(['experimento'])['duracao'].std()\n",
    "\n",
    "print(df_grpc_same_computer_media_por_experimento)\n",
    "print(df_grpc_same_computer_desvio_padrao_por_experimento)\n"
   ]
  }
 ],
 "metadata": {
  "kernelspec": {
   "display_name": "venv",
   "language": "python",
   "name": "python3"
  },
  "language_info": {
   "codemirror_mode": {
    "name": "ipython",
    "version": 3
   },
   "file_extension": ".py",
   "mimetype": "text/x-python",
   "name": "python",
   "nbconvert_exporter": "python",
   "pygments_lexer": "ipython3",
   "version": "3.11.3"
  },
  "orig_nbformat": 4
 },
 "nbformat": 4,
 "nbformat_minor": 2
}
